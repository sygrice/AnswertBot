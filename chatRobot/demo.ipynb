{
 "cells": [
  {
   "cell_type": "code",
   "id": "initial_id",
   "metadata": {
    "collapsed": true,
    "ExecuteTime": {
     "end_time": "2025-01-06T16:15:20.357258Z",
     "start_time": "2025-01-06T16:15:20.332237Z"
    }
   },
   "source": [
    "from langchain.embeddings import HuggingFaceEmbeddings\n",
    "from langchain.llms import HuggingFaceHub\n",
    "from langchain.text_splitter import CharacterTextSplitter\n",
    "from langchain.vectorstores import FAISS\n",
    "from langchain.memory import ConversationBufferMemory\n",
    "from langchain.chains import ConversationalRetrievalChain\n",
    "import pdfplumber\n",
    "import docx\n",
    "import win32com.client\n",
    "from langchain.schema import Document"
   ],
   "outputs": [],
   "execution_count": 25
  },
  {
   "metadata": {
    "ExecuteTime": {
     "end_time": "2025-01-06T16:15:20.762540Z",
     "start_time": "2025-01-06T16:15:20.748544Z"
    }
   },
   "cell_type": "code",
   "source": [
    "import os\n",
    "file_path = \"./docs/包装机械的CE认证.pdf\"\n",
    "file_extension = os.path.splitext(file_path)[-1].lower()\n",
    "print(f\"string:{file_extension}\")"
   ],
   "id": "88a9360962c7ce70",
   "outputs": [
    {
     "name": "stdout",
     "output_type": "stream",
     "text": [
      "string:.pdf\n"
     ]
    }
   ],
   "execution_count": 26
  },
  {
   "metadata": {
    "ExecuteTime": {
     "end_time": "2025-01-06T16:15:21.338991Z",
     "start_time": "2025-01-06T16:15:21.325992Z"
    }
   },
   "cell_type": "code",
   "source": [
    "def extract_docs(folder_path):\n",
    "    paths = []\n",
    "    for root, dir, files in os.walk(folder_path):\n",
    "        for f in files:\n",
    "            f_path = os.path.join(root, f)\n",
    "            paths.append(f_path)\n",
    "    return paths\n",
    "pa = extract_docs(\"./docs\")\n",
    "print(pa)"
   ],
   "id": "e0372ecb3baf7241",
   "outputs": [
    {
     "name": "stdout",
     "output_type": "stream",
     "text": [
      "['./docs\\\\YCT 549.8-2016 烟草机械 烟草专用机械鉴别检验规程 第8部分：烟用包装机械.pdf', './docs\\\\包装机械的CE认证.pdf', './docs\\\\包装机械结构与设计.pdf', './docs\\\\包装机械设计.pdf', './docs\\\\包装机械选用手册.pdf', './docs\\\\包装机械选用手册上-印刷实务.pdf', './docs\\\\包装机械选用手册下-印刷实务.pdf', './docs\\\\印刷机械包装机械配套产品实用手册.pdf', './docs\\\\工-机械全书1-2.pdf', './docs\\\\工-机械全书3-4.pdf', './docs\\\\工-机械全书5-6.pdf', './docs\\\\工-机械全书7-11.pdf', './docs\\\\工-机械最优化设计及应用实例1.pdf', './docs\\\\工-机械设计(清华精仪).pdf', './docs\\\\工-机械设计(西工大).pdf', './docs\\\\教-机 械 制 造 基 础1.doc', './docs\\\\教-机 械 制 造 基 础1.docx', './docs\\\\教-机械-数学和力学基础知识.doc', './docs\\\\教-机械-数学和力学基础知识.docx', './docs\\\\教-机械制图.doc', './docs\\\\教-机械制图.docx', './docs\\\\教-机械制造工艺基础.doc', './docs\\\\教-机械制造工艺基础.docx', './docs\\\\教-机械制造概论.doc', './docs\\\\教-机械制造概论.docx', './docs\\\\教-机械工程材料学.doc', './docs\\\\教-机械工程材料学.docx', './docs\\\\教-机械现代控制工程.doc', './docs\\\\教-机械现代控制工程.docx', './docs\\\\教-机械电子学.doc', './docs\\\\教-机械电子学.docx', './docs\\\\教-机械零件与原理.doc', './docs\\\\教-机械零件与原理.docx', './docs\\\\钢管的验收、包装、标志和质量证明书 .pdf']\n"
     ]
    }
   ],
   "execution_count": 27
  },
  {
   "metadata": {
    "ExecuteTime": {
     "end_time": "2025-01-06T16:15:28.592261Z",
     "start_time": "2025-01-06T16:15:28.574222Z"
    }
   },
   "cell_type": "code",
   "source": [
    "def extract_text(path):# 某一个path如：./docs/包装机械结构与设计.pdf\n",
    "    text=''\n",
    "    file_extension = os.path.splitext(path)[-1].lower()\n",
    "    if file_extension == '.pdf':\n",
    "        with pdfplumber.open(path) as f:\n",
    "            for page in f.pages:\n",
    "                text+=page.extract_text()\n",
    "    elif file_extension == '.docs':\n",
    "        file_path = convert_doc_to_docx(path, f\"{os.path.splitext(path)[0]}.docx\")\n",
    "        docf = docx.Document(file_path)\n",
    "        for paragraph in docf.paragraphs:\n",
    "            text+=paragraph.text"
   ],
   "id": "fc1b08fe0f93e894",
   "outputs": [],
   "execution_count": 28
  },
  {
   "metadata": {
    "ExecuteTime": {
     "end_time": "2025-01-06T16:15:29.632528Z",
     "start_time": "2025-01-06T16:15:29.616528Z"
    }
   },
   "cell_type": "code",
   "source": [
    "for i in pa:\n",
    "    print(i)"
   ],
   "id": "441fc63d105440ac",
   "outputs": [
    {
     "name": "stdout",
     "output_type": "stream",
     "text": [
      "./docs\\YCT 549.8-2016 烟草机械 烟草专用机械鉴别检验规程 第8部分：烟用包装机械.pdf\n",
      "./docs\\包装机械的CE认证.pdf\n",
      "./docs\\包装机械结构与设计.pdf\n",
      "./docs\\包装机械设计.pdf\n",
      "./docs\\包装机械选用手册.pdf\n",
      "./docs\\包装机械选用手册上-印刷实务.pdf\n",
      "./docs\\包装机械选用手册下-印刷实务.pdf\n",
      "./docs\\印刷机械包装机械配套产品实用手册.pdf\n",
      "./docs\\工-机械全书1-2.pdf\n",
      "./docs\\工-机械全书3-4.pdf\n",
      "./docs\\工-机械全书5-6.pdf\n",
      "./docs\\工-机械全书7-11.pdf\n",
      "./docs\\工-机械最优化设计及应用实例1.pdf\n",
      "./docs\\工-机械设计(清华精仪).pdf\n",
      "./docs\\工-机械设计(西工大).pdf\n",
      "./docs\\教-机 械 制 造 基 础1.doc\n",
      "./docs\\教-机 械 制 造 基 础1.docx\n",
      "./docs\\教-机械-数学和力学基础知识.doc\n",
      "./docs\\教-机械-数学和力学基础知识.docx\n",
      "./docs\\教-机械制图.doc\n",
      "./docs\\教-机械制图.docx\n",
      "./docs\\教-机械制造工艺基础.doc\n",
      "./docs\\教-机械制造工艺基础.docx\n",
      "./docs\\教-机械制造概论.doc\n",
      "./docs\\教-机械制造概论.docx\n",
      "./docs\\教-机械工程材料学.doc\n",
      "./docs\\教-机械工程材料学.docx\n",
      "./docs\\教-机械现代控制工程.doc\n",
      "./docs\\教-机械现代控制工程.docx\n",
      "./docs\\教-机械电子学.doc\n",
      "./docs\\教-机械电子学.docx\n",
      "./docs\\教-机械零件与原理.doc\n",
      "./docs\\教-机械零件与原理.docx\n",
      "./docs\\钢管的验收、包装、标志和质量证明书 .pdf\n"
     ]
    }
   ],
   "execution_count": 29
  },
  {
   "metadata": {
    "ExecuteTime": {
     "end_time": "2025-01-06T16:15:35.868683Z",
     "start_time": "2025-01-06T16:15:35.852686Z"
    }
   },
   "cell_type": "code",
   "source": [
    "def convert_doc_to_docx(input_path, output_path):\n",
    "    input_path = os.path.abspath(input_path)\n",
    "    output_path = os.path.abspath(output_path)\n",
    "\n",
    "    try:\n",
    "        word = win32com.client.Dispatch(\"Word.Application\")\n",
    "        word.Visible = False  # 隐藏 Word 窗口\n",
    "        doc = word.Documents.Open(input_path)\n",
    "        doc.SaveAs(output_path, FileFormat=16)  # 16 表示 .docx 格式\n",
    "        doc.Close()\n",
    "        word.Quit()\n",
    "        print(f\"Successfully converted {input_path} to {output_path}\")\n",
    "        return output_path\n",
    "    except Exception as e:\n",
    "        print(f\"Error: {e}\")"
   ],
   "id": "dda08307e1e2019f",
   "outputs": [],
   "execution_count": 30
  },
  {
   "metadata": {
    "ExecuteTime": {
     "end_time": "2025-01-06T16:15:38.230882Z",
     "start_time": "2025-01-06T16:15:36.386587Z"
    }
   },
   "cell_type": "code",
   "source": [
    "path = \"docs/教-机械制图.doc\"\n",
    "convert_doc_to_docx(path, f\"{os.path.splitext(path)[0]}.docx\")"
   ],
   "id": "a97af0b90e1d1f44",
   "outputs": [
    {
     "name": "stdout",
     "output_type": "stream",
     "text": [
      "Successfully converted D:\\codes\\python_project\\LangChain_Chat\\chatRobot\\docs\\教-机械制图.doc to D:\\codes\\python_project\\LangChain_Chat\\chatRobot\\docs\\教-机械制图.docx\n"
     ]
    },
    {
     "data": {
      "text/plain": [
       "'D:\\\\codes\\\\python_project\\\\LangChain_Chat\\\\chatRobot\\\\docs\\\\教-机械制图.docx'"
      ]
     },
     "execution_count": 31,
     "metadata": {},
     "output_type": "execute_result"
    }
   ],
   "execution_count": 31
  },
  {
   "metadata": {
    "ExecuteTime": {
     "end_time": "2025-01-06T16:15:39.222727Z",
     "start_time": "2025-01-06T16:15:39.111776Z"
    }
   },
   "cell_type": "code",
   "source": [
    "f = docx.Document(\"./docs/教-机械零件与原理.docx\")\n",
    "for p in f.paragraphs:\n",
    "    print(p.text)"
   ],
   "id": "815486b2792d03c6",
   "outputs": [
    {
     "name": "stdout",
     "output_type": "stream",
     "text": [
      "\n"
     ]
    }
   ],
   "execution_count": 32
  },
  {
   "metadata": {
    "ExecuteTime": {
     "end_time": "2025-01-06T16:15:41.781667Z",
     "start_time": "2025-01-06T16:15:41.773664Z"
    }
   },
   "cell_type": "code",
   "source": [
    "f = os.path.splitext('docs/教-机械零件与原理.docx')\n",
    "f"
   ],
   "id": "67f32e1fe557fa2",
   "outputs": [
    {
     "data": {
      "text/plain": [
       "('docs/教-机械零件与原理', '.docx')"
      ]
     },
     "execution_count": 33,
     "metadata": {},
     "output_type": "execute_result"
    }
   ],
   "execution_count": 33
  },
  {
   "metadata": {
    "ExecuteTime": {
     "end_time": "2025-01-06T16:15:47.369356Z",
     "start_time": "2025-01-06T16:15:47.347728Z"
    }
   },
   "cell_type": "code",
   "source": [
    "for path, dirs, files in os.walk(\"docs\"):\n",
    "    for f in files:\n",
    "        print(f)\n",
    "        if f.endswith(\".pdf\"):\n",
    "            print(\"pdf\")\n",
    "        elif f.endswith(\".docs\"):\n",
    "            print(\"docs\")"
   ],
   "id": "b5bd3d8091abea1a",
   "outputs": [
    {
     "name": "stdout",
     "output_type": "stream",
     "text": [
      "YCT 549.8-2016 烟草机械 烟草专用机械鉴别检验规程 第8部分：烟用包装机械.pdf\n",
      "pdf\n",
      "包装机械的CE认证.pdf\n",
      "pdf\n",
      "包装机械结构与设计.pdf\n",
      "pdf\n",
      "包装机械设计.pdf\n",
      "pdf\n",
      "包装机械选用手册.pdf\n",
      "pdf\n",
      "包装机械选用手册上-印刷实务.pdf\n",
      "pdf\n",
      "包装机械选用手册下-印刷实务.pdf\n",
      "pdf\n",
      "印刷机械包装机械配套产品实用手册.pdf\n",
      "pdf\n",
      "工-机械全书1-2.pdf\n",
      "pdf\n",
      "工-机械全书3-4.pdf\n",
      "pdf\n",
      "工-机械全书5-6.pdf\n",
      "pdf\n",
      "工-机械全书7-11.pdf\n",
      "pdf\n",
      "工-机械最优化设计及应用实例1.pdf\n",
      "pdf\n",
      "工-机械设计(清华精仪).pdf\n",
      "pdf\n",
      "工-机械设计(西工大).pdf\n",
      "pdf\n",
      "教-机 械 制 造 基 础1.doc\n",
      "教-机 械 制 造 基 础1.docx\n",
      "教-机械-数学和力学基础知识.doc\n",
      "教-机械-数学和力学基础知识.docx\n",
      "教-机械制图.doc\n",
      "教-机械制图.docx\n",
      "教-机械制造工艺基础.doc\n",
      "教-机械制造工艺基础.docx\n",
      "教-机械制造概论.doc\n",
      "教-机械制造概论.docx\n",
      "教-机械工程材料学.doc\n",
      "教-机械工程材料学.docx\n",
      "教-机械现代控制工程.doc\n",
      "教-机械现代控制工程.docx\n",
      "教-机械电子学.doc\n",
      "教-机械电子学.docx\n",
      "教-机械零件与原理.doc\n",
      "教-机械零件与原理.docx\n",
      "钢管的验收、包装、标志和质量证明书 .pdf\n",
      "pdf\n"
     ]
    }
   ],
   "execution_count": 34
  },
  {
   "metadata": {},
   "cell_type": "code",
   "outputs": [],
   "execution_count": null,
   "source": "",
   "id": "4d63e43a2053d95e"
  }
 ],
 "metadata": {
  "kernelspec": {
   "display_name": "Python 3",
   "language": "python",
   "name": "python3"
  },
  "language_info": {
   "codemirror_mode": {
    "name": "ipython",
    "version": 2
   },
   "file_extension": ".py",
   "mimetype": "text/x-python",
   "name": "python",
   "nbconvert_exporter": "python",
   "pygments_lexer": "ipython2",
   "version": "2.7.6"
  }
 },
 "nbformat": 4,
 "nbformat_minor": 5
}
